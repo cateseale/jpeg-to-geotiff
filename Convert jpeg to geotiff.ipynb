{
 "cells": [
  {
   "cell_type": "code",
   "execution_count": 83,
   "metadata": {},
   "outputs": [],
   "source": [
    "import rasterio\n",
    "import os\n",
    "import glob"
   ]
  },
  {
   "cell_type": "code",
   "execution_count": 81,
   "metadata": {},
   "outputs": [],
   "source": [
    "# define new metadata for georeferencing\n",
    "newaffine = rasterio.Affine(0.00017094824850024068, 0.0, -3.59610894032314, 0.0, \n",
    "                            -0.00010844755923968352, 50.67301472676834)\n",
    "dst_crs = 'EPSG:4326'"
   ]
  },
  {
   "cell_type": "code",
   "execution_count": 106,
   "metadata": {},
   "outputs": [
    {
     "name": "stderr",
     "output_type": "stream",
     "text": [
      "c:\\users\\cate\\anaconda3\\envs\\animations\\lib\\site-packages\\rasterio\\__init__.py:271: NotGeoreferencedWarning: Dataset has no geotransform set. Default transform will be applied (Affine.identity())\n",
      "  s = DatasetReader(fp)\n"
     ]
    }
   ],
   "source": [
    "# read in images\n",
    "jpegs_dir = os.path.join('C:\\\\','Users','Cate','RnD','Animations','imagery','jpeg')\n",
    "tif_dir = os.path.join('C:\\\\','Users','Cate','RnD','Animations','imagery','geotiff')\n",
    "\n",
    "for image in glob.glob(os.path.join(jpegs_dir,'*')):\n",
    "    src = rasterio.open(image)\n",
    "    raster = src.read()\n",
    "    filename = 'exeter_' + image[-14:-4] + '.tif'\n",
    "    out_path = os.path.join(tif_dir,filename)\n",
    "                        \n",
    "    new_image = rasterio.open(out_path, 'w', driver='GTiff',\n",
    "                          height=src.shape[0], width=src.shape[1], count=3,dtype='uint8', \n",
    "                          crs=dst_crs,\n",
    "                          transform=newaffine)\n",
    "    new_image.write(raster)\n",
    "    new_image.close()"
   ]
  }
 ],
 "metadata": {
  "kernelspec": {
   "display_name": "Python 3",
   "language": "python",
   "name": "python3"
  },
  "language_info": {
   "codemirror_mode": {
    "name": "ipython",
    "version": 3
   },
   "file_extension": ".py",
   "mimetype": "text/x-python",
   "name": "python",
   "nbconvert_exporter": "python",
   "pygments_lexer": "ipython3",
   "version": "3.6.3"
  }
 },
 "nbformat": 4,
 "nbformat_minor": 2
}
